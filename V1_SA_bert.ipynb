{
 "cells": [
  {
   "cell_type": "code",
   "execution_count": 1,
   "metadata": {},
   "outputs": [
    {
     "name": "stderr",
     "output_type": "stream",
     "text": [
      "c:\\Users\\lucia\\anaconda3\\lib\\site-packages\\pandas\\core\\computation\\expressions.py:21: UserWarning: Pandas requires version '2.8.4' or newer of 'numexpr' (version '2.8.1' currently installed).\n",
      "  from pandas.core.computation.check import NUMEXPR_INSTALLED\n",
      "c:\\Users\\lucia\\anaconda3\\lib\\site-packages\\pandas\\core\\arrays\\masked.py:60: UserWarning: Pandas requires version '1.3.6' or newer of 'bottleneck' (version '1.3.4' currently installed).\n",
      "  from pandas.core import (\n"
     ]
    }
   ],
   "source": [
    "import torch\n",
    "import pandas as pd\n",
    "import torch.optim as optim\n",
    "from typing import Tuple, List, Dict, Any\n",
    "from torch.utils.data import DataLoader, Dataset"
   ]
  },
  {
   "cell_type": "markdown",
   "metadata": {},
   "source": [
    "### LOAD DATA"
   ]
  },
  {
   "cell_type": "code",
   "execution_count": null,
   "metadata": {},
   "outputs": [],
   "source": [
    "train_texts_list = torch.load('train_embeddings_bert.pt')\n",
    "test_texts_list = torch.load('test_embeddings_bert.pt')\n",
    "val_texts_list = torch.load('val_embeddings_bert.pt')"
   ]
  },
  {
   "cell_type": "code",
   "execution_count": 23,
   "metadata": {},
   "outputs": [
    {
     "data": {
      "text/plain": [
       "torch.Size([1, 51, 768])"
      ]
     },
     "execution_count": 23,
     "metadata": {},
     "output_type": "execute_result"
    }
   ],
   "source": [
    "train_texts_list[0].shape"
   ]
  },
  {
   "cell_type": "code",
   "execution_count": 21,
   "metadata": {},
   "outputs": [
    {
     "data": {
      "text/plain": [
       "51"
      ]
     },
     "execution_count": 21,
     "metadata": {},
     "output_type": "execute_result"
    }
   ],
   "source": [
    "len(train_texts_list[0][0])"
   ]
  },
  {
   "cell_type": "code",
   "execution_count": 3,
   "metadata": {},
   "outputs": [],
   "source": [
    "train_texts = []\n",
    "\n",
    "for i in range(len(train_texts_list)):\n",
    "    tensor = train_texts_list[i]\n",
    "    train_texts.append(tensor.squeeze())\n",
    "\n",
    "test_texts = []\n",
    "\n",
    "for i in range(len(test_texts_list)):\n",
    "    tensor = test_texts_list[i]\n",
    "    test_texts.append(tensor.squeeze())\n",
    "\n",
    "val_texts = []\n",
    "\n",
    "for i in range(len(val_texts_list)):\n",
    "    tensor = val_texts_list[i]\n",
    "    val_texts.append(tensor.squeeze())"
   ]
  },
  {
   "cell_type": "code",
   "execution_count": 4,
   "metadata": {},
   "outputs": [],
   "source": [
    "df_train_sentiment = pd.read_csv('sentiment_train.csv')\n",
    "df_val_sentiment = pd.read_csv('sentiment_val.csv')\n",
    "df_test_sentiment = pd.read_csv('sentiment_test.csv')\n",
    "\n",
    "train_sentiment_word = df_train_sentiment[\"sentiment\"]\n",
    "val_sentiment_word = df_val_sentiment[\"sentiment\"]\n",
    "test_sentiment_word = df_test_sentiment[\"sentiment\"]\n",
    "\n",
    "train_sentiment = torch.tensor([0 if sentiment == \"NEGATIVE\" else 1 for sentiment in train_sentiment_word])\n",
    "val_sentiment = torch.tensor([0 if sentiment == \"NEGATIVE\" else 1 for sentiment in val_sentiment_word])\n",
    "test_sentiment = torch.tensor([0 if sentiment == \"NEGATIVE\" else 1 for sentiment in test_sentiment_word])"
   ]
  },
  {
   "cell_type": "code",
   "execution_count": 5,
   "metadata": {},
   "outputs": [],
   "source": [
    "df_train_entities = pd.read_json('finer_train_data.json')\n",
    "df_val_entities = pd.read_json('finer_validation_data.json')\n",
    "df_test_entities = pd.read_json('finer_test_data.json')\n",
    "\n",
    "df_train_entities.columns = [\"texts\", \"entities\"]\n",
    "df_val_entities.columns = [\"texts\", \"entities\"]\n",
    "df_test_entities.columns = [\"texts\", \"entities\"]\n",
    "\n",
    "train_entities = df_train_entities[\"entities\"]\n",
    "val_entities = df_train_entities[\"entities\"]\n",
    "test_entities = df_train_entities[\"entities\"]"
   ]
  },
  {
   "cell_type": "code",
   "execution_count": 24,
   "metadata": {},
   "outputs": [
    {
     "data": {
      "text/plain": [
       "{'entities': [[30, 35, 'PERSON'], [111, 116, 'PERSON'], [183, 189, 'LOC']]}"
      ]
     },
     "execution_count": 24,
     "metadata": {},
     "output_type": "execute_result"
    }
   ],
   "source": [
    "train_entities[0]"
   ]
  },
  {
   "cell_type": "markdown",
   "metadata": {},
   "source": [
    "### DATASET"
   ]
  },
  {
   "cell_type": "code",
   "execution_count": null,
   "metadata": {},
   "outputs": [],
   "source": [
    "class SentimentDataset(Dataset):\n",
    "    def __init__(self, texts, labels):\n",
    "        self.texts : List[torch.Tensor] = texts\n",
    "        self.labels = torch.tensor(labels, dtype=torch.long)\n",
    "\n",
    "    def __len__(self):\n",
    "        return len(self.texts)\n",
    "\n",
    "    def __getitem__(self, idx):\n",
    "        text = torch.tensor(self.texts[idx], dtype=torch.float32)\n",
    "        return text, self.labels[idx]"
   ]
  },
  {
   "cell_type": "markdown",
   "metadata": {},
   "source": [
    "### COLLATE FUNCTION"
   ]
  },
  {
   "cell_type": "code",
   "execution_count": 7,
   "metadata": {},
   "outputs": [],
   "source": [
    "def pad_collate(batch):\n",
    "    texts, labels = zip(*batch)\n",
    "\n",
    "    # Quitar la dimensión 1 si viene como [1, seq_len, 768]\n",
    "    texts = [text.squeeze(0) if text.dim() == 3 and text.size(0) == 1 else text for text in texts]\n",
    "\n",
    "    lengths = [text.size(0) for text in texts]\n",
    "    max_len = max(lengths)\n",
    "    \n",
    "    padded_texts = [\n",
    "        torch.cat([text, torch.zeros(max_len - text.size(0), text.size(1))], dim=0)\n",
    "        for text in texts\n",
    "    ]\n",
    "    \n",
    "    return torch.stack(padded_texts), torch.tensor(labels), torch.tensor(lengths)"
   ]
  },
  {
   "cell_type": "code",
   "execution_count": 8,
   "metadata": {},
   "outputs": [
    {
     "name": "stderr",
     "output_type": "stream",
     "text": [
      "C:\\Users\\lucia\\AppData\\Local\\Temp\\ipykernel_33068\\1870535092.py:4: UserWarning: To copy construct from a tensor, it is recommended to use sourceTensor.clone().detach() or sourceTensor.clone().detach().requires_grad_(True), rather than torch.tensor(sourceTensor).\n",
      "  self.labels = torch.tensor(labels, dtype=torch.float32)\n"
     ]
    }
   ],
   "source": [
    "BATCH_SIZE = 32\n",
    "\n",
    "train_dataset = SentimentDataset(train_texts_list, train_sentiment)\n",
    "val_dataset = SentimentDataset(val_texts_list, val_sentiment)\n",
    "test_dataset = SentimentDataset(test_texts_list, test_sentiment)\n",
    "train_loader = DataLoader(train_dataset, batch_size=BATCH_SIZE, shuffle=True, collate_fn=pad_collate)\n",
    "test_loader = DataLoader(test_dataset, batch_size=BATCH_SIZE, collate_fn=pad_collate)\n",
    "val_loader = DataLoader(val_dataset, batch_size=BATCH_SIZE, collate_fn=pad_collate)"
   ]
  },
  {
   "cell_type": "markdown",
   "metadata": {},
   "source": [
    "---------------------------------------------------------------"
   ]
  },
  {
   "cell_type": "markdown",
   "metadata": {},
   "source": [
    "### MODELS"
   ]
  },
  {
   "cell_type": "code",
   "execution_count": 9,
   "metadata": {},
   "outputs": [],
   "source": [
    "class SentimentAnalysisModel(torch.nn.Module):\n",
    "    def __init__(self, embedding_dim, num_layers, hidden_dim, num_classes=2, dropout_rate=0.5):\n",
    "        super(SentimentAnalysisModel, self).__init__()\n",
    "        self.lstm = torch.nn.LSTM(embedding_dim, hidden_dim, batch_first=True, num_layers=num_layers, dropout=dropout_rate, bidirectional=True)\n",
    "        self.dropout = torch.nn.Dropout(dropout_rate)\n",
    "        self.fc = torch.nn.Linear(in_features=hidden_dim, out_features=num_classes)\n",
    "\n",
    "    def forward(self, x):\n",
    "        packed_output, (hidden, cell) = self.lstm(x)\n",
    "        hidden = hidden[-1]  \n",
    "        hidden = self.dropout(hidden)\n",
    "        output = self.fc(hidden).squeeze()\n",
    "        return output"
   ]
  },
  {
   "cell_type": "code",
   "execution_count": 10,
   "metadata": {},
   "outputs": [],
   "source": [
    "class BidirectionalSentimentAnalysisModel(torch.nn.Module):\n",
    "    def __init__(self, embedding_dim, num_layers, hidden_dim, num_classes=2, dropout_rate=0.5):\n",
    "        super(BidirectionalSentimentAnalysisModel, self).__init__()\n",
    "        self.hidden_dim = hidden_dim\n",
    "        self.num_layers = num_layers\n",
    "        self.bidirectional = True\n",
    "\n",
    "        self.lstm = torch.nn.LSTM(\n",
    "            input_size=embedding_dim,\n",
    "            hidden_size=hidden_dim,\n",
    "            num_layers=num_layers,\n",
    "            dropout=dropout_rate if num_layers > 1 else 0.0,\n",
    "            bidirectional=self.bidirectional,\n",
    "            batch_first=True\n",
    "        )\n",
    "        self.dropout = torch.nn.Dropout(dropout_rate)\n",
    "        self.fc = torch.nn.Linear(in_features=hidden_dim * 2, out_features=num_classes) \n",
    "\n",
    "    def forward(self, x):\n",
    "        lstm_out, (hidden, cell) = self.lstm(x)\n",
    "\n",
    "        forward_hidden = hidden[-2]\n",
    "        backward_hidden = hidden[-1]\n",
    "        final_hidden = torch.cat((forward_hidden, backward_hidden), dim=1)\n",
    "\n",
    "        final_hidden = self.dropout(final_hidden)\n",
    "        output = self.fc(final_hidden).squeeze(1)\n",
    "        return output\n"
   ]
  },
  {
   "cell_type": "code",
   "execution_count": 11,
   "metadata": {},
   "outputs": [],
   "source": [
    "class UnidirectionalSentimentAnalysisModel(torch.nn.Module):\n",
    "    def __init__(self, embedding_dim, num_layers, hidden_dim, num_classes=2, dropout_rate=0.5):\n",
    "        super(UnidirectionalSentimentAnalysisModel, self).__init__()\n",
    "        self.hidden_dim = hidden_dim\n",
    "        self.num_layers = num_layers\n",
    "\n",
    "        self.lstm = torch.nn.LSTM(\n",
    "            input_size=embedding_dim,\n",
    "            hidden_size=hidden_dim,\n",
    "            num_layers=num_layers,\n",
    "            dropout=dropout_rate if num_layers > 1 else 0.0,\n",
    "            bidirectional=False,\n",
    "            batch_first=True\n",
    "        )\n",
    "        self.dropout = torch.nn.Dropout(dropout_rate)\n",
    "        self.fc = torch.nn.Linear(in_features=hidden_dim, out_features=num_classes)\n",
    "\n",
    "    def forward(self, x):\n",
    "        lstm_out, (hidden, cell) = self.lstm(x)\n",
    "        final_hidden = hidden[-1] \n",
    "\n",
    "        final_hidden = self.dropout(final_hidden)\n",
    "        output = self.fc(final_hidden).squeeze(1)\n",
    "        return output\n"
   ]
  },
  {
   "cell_type": "code",
   "execution_count": 12,
   "metadata": {},
   "outputs": [],
   "source": [
    "class TCNBlock(torch.nn.Module):\n",
    "    def __init__(self, in_channels, out_channels, kernel_size, dilation):\n",
    "        super().__init__()\n",
    "        self.conv = torch.nn.Conv1d(\n",
    "            in_channels, \n",
    "            out_channels, \n",
    "            kernel_size=kernel_size, \n",
    "            padding=(kernel_size - 1) * dilation, \n",
    "            dilation=dilation\n",
    "        )\n",
    "        self.relu = torch.nn.ReLU()\n",
    "        self.bn = torch.nn.BatchNorm1d(out_channels)\n",
    "        self.dropout = torch.nn.Dropout(0.2)\n",
    "\n",
    "    def forward(self, x):\n",
    "        out = self.conv(x)\n",
    "        out = out[:, :, :-self.conv.padding[0]]\n",
    "        out = self.relu(out)\n",
    "        out = self.bn(out)\n",
    "        return self.dropout(out)\n",
    "\n",
    "class SentimentTCN(torch.nn.Module):\n",
    "    def __init__(self, embedding_dim=768, num_classes=2):\n",
    "        super().__init__()\n",
    "        self.tcn1 = TCNBlock(embedding_dim, 128, kernel_size=3, dilation=1)\n",
    "        self.tcn2 = TCNBlock(128, 128, kernel_size=3, dilation=2)\n",
    "        self.tcn3 = TCNBlock(128, 128, kernel_size=3, dilation=4)\n",
    "        self.pool = torch.nn.AdaptiveMaxPool1d(1)\n",
    "        self.fc = torch.nn.Linear(128, num_classes)\n",
    "\n",
    "    def forward(self, x):\n",
    "        x = x.transpose(1, 2)  # (batch, embed_dim, seq_len)\n",
    "        x = self.tcn1(x)\n",
    "        x = self.tcn2(x)\n",
    "        x = self.tcn3(x)\n",
    "        x = self.pool(x).squeeze(2)\n",
    "        return self.fc(x)\n"
   ]
  },
  {
   "cell_type": "code",
   "execution_count": 13,
   "metadata": {},
   "outputs": [],
   "source": [
    "class SentimentDAN(torch.nn.Module):\n",
    "    def __init__(self, embedding_dim=768, hidden_dim=256, num_classes=2):\n",
    "        super().__init__()\n",
    "        self.fc1 = torch.nn.Linear(embedding_dim, hidden_dim)\n",
    "        self.relu = torch.nn.ReLU()\n",
    "        self.dropout = torch.nn.Dropout(0.3)\n",
    "        self.fc2 = torch.nn.Linear(hidden_dim, num_classes)\n",
    "\n",
    "    def forward(self, x):\n",
    "        x = x.mean(dim=1) \n",
    "        x = self.fc1(x)\n",
    "        x = self.relu(x)\n",
    "        x = self.dropout(x)\n",
    "        return self.fc2(x)"
   ]
  },
  {
   "cell_type": "markdown",
   "metadata": {},
   "source": [
    "------------------------------------------------------------------"
   ]
  },
  {
   "cell_type": "markdown",
   "metadata": {},
   "source": [
    "### TRAIN MODEL"
   ]
  },
  {
   "cell_type": "code",
   "execution_count": 14,
   "metadata": {},
   "outputs": [],
   "source": [
    "EMBEDDING_DIM = 768\n",
    "NUM_LAYERS = 2\n",
    "DROPOUT_RATE = 0.5\n",
    "HIDDEN_DIM = 64\n",
    "EPOCHS = 100\n",
    "PRINT_EVERY = 10\n",
    "PATIENCE = 5\n",
    "LEARNING_RATE = 2e-4  \n",
    "LEARNING_RATE = 2e-4         \n",
    "WEIGHT_DECAY = 1e-5 \n",
    "NUM_CLASSES = 2    \n",
    "DEVICE = torch.device(\"cuda\" if torch.cuda.is_available() else \"cpu\")\n",
    "\n",
    "# SentimentAnalysisModel\n",
    "# BidirectionalSentimentAnalysisModel BUENO\n",
    "# UnidirectionalSentimentAnalysisModel MALO\n",
    "\n",
    "# model = BidirectionalSentimentAnalysisModel(\n",
    "#     embedding_dim=EMBEDDING_DIM, \n",
    "#     num_layers=NUM_LAYERS,\n",
    "#     dropout_rate=DROPOUT_RATE,\n",
    "#     hidden_dim=HIDDEN_DIM, \n",
    "#     num_classes=NUM_CLASSES)\n",
    "\n",
    "# model = SentimentTCN(\n",
    "#     embedding_dim=EMBEDDING_DIM, \n",
    "#     num_classes=NUM_CLASSES)\n",
    "\n",
    "model = SentimentDAN(\n",
    "    embedding_dim=EMBEDDING_DIM, \n",
    "    hidden_dim=HIDDEN_DIM, \n",
    "    num_classes=NUM_CLASSES)\n",
    "\n",
    "\n",
    "criterion = torch.nn.CrossEntropyLoss()\n",
    "optimizer = optim.Adam(model.parameters(), lr=LEARNING_RATE, weight_decay=WEIGHT_DECAY)"
   ]
  },
  {
   "cell_type": "code",
   "execution_count": 15,
   "metadata": {},
   "outputs": [],
   "source": [
    "def calculate_accuracy(model: torch.nn.Module, dataloader: DataLoader, threshold: float = 0.5, device: str = 'cpu') -> float:\n",
    "    \"\"\"\n",
    "    Calculate the accuracy of a PyTorch model given a DataLoader.\n",
    "\n",
    "    The function moves the model to the specified device, sets it to evaluation mode, and computes\n",
    "    the accuracy by comparing the model's predictions against the true labels. The predictions are\n",
    "    determined based on a specified threshold.\n",
    "\n",
    "    Args:\n",
    "        model (torch.nn.Module): The PyTorch model to evaluate.\n",
    "        dataloader (DataLoader): The DataLoader containing the dataset to evaluate against.\n",
    "        threshold (float, optional): Probability threshold to predict a sample as positive. Defaults to 0.5.\n",
    "        device (str, optional): Device to which the model and data are moved ('cpu' or 'cuda'). Defaults to 'cpu'.\n",
    "\n",
    "    Returns:\n",
    "        float: The accuracy of the model on the given dataset.\n",
    "    \"\"\"\n",
    "    # TODO: Calculate accuracy of a model given a dataloader\n",
    "    model.eval()\n",
    "    model.to(device)\n",
    "    correct = 0\n",
    "    total = 0\n",
    "\n",
    "    with torch.no_grad():\n",
    "        for features, labels, text_len in dataloader:\n",
    "            features, labels = features.to(device), labels.to(device)\n",
    "            outputs = model(features)\n",
    "            predicted = (torch.sigmoid(outputs)[:,1] >= threshold).float()\n",
    "            total += labels.size(0)\n",
    "            correct += (predicted == labels).sum().item()\n",
    "\n",
    "    accuracy = correct / total\n",
    "    return accuracy"
   ]
  },
  {
   "cell_type": "code",
   "execution_count": 16,
   "metadata": {},
   "outputs": [],
   "source": [
    "def train_torch_model(model: torch.nn.Module, train_dataloader: DataLoader,\n",
    "                val_dataloader: DataLoader, criterion: torch.nn.Module,\n",
    "                optimizer: optim.Optimizer, epochs: int,\n",
    "                print_every: int, patience: int,\n",
    "                device: str = 'cpu') -> Tuple[Dict[int, float],Dict[int, float]]:\n",
    "    \"\"\"\n",
    "    Train and validate the logistic regression model.\n",
    "\n",
    "    Args:\n",
    "        model (torch.nn.Module): An instance of the model to be trained.\n",
    "        train_dataloader (DataLoader): DataLoader for the training dataset.\n",
    "        val_dataloader (DataLoader): DataLoader for the validation dataset.\n",
    "        learning_rate (float): The learning rate for the optimizer.\n",
    "        criterion (nn.Module): Loss function to use for training.\n",
    "        optimizer (optim.Optimizer): Optimizer to use for training.\n",
    "        epochs (int): The number of epochs to train the model.\n",
    "        print_every (int): Frequency of epochs to print training and validation loss.\n",
    "        patience (int): The number of epochs to wait for improvement on the validation loss before stopping training early.\n",
    "        device (str): device where to train the model.\n",
    "\n",
    "    Returns:\n",
    "        Tuple[Dict[int, float],Dict[int, float]]: Dictionary of accuracies at each `print_every` interval for the training and validation datasets.\n",
    "    \"\"\"\n",
    "    # TODO: Initialize dictionaries to store training and validation accuracies\n",
    "    train_accuracies: Dict[int, float] = {}\n",
    "    val_accuracies: Dict[int, float] = {}\n",
    "\n",
    "    # TODO: Initialize variables for Early Stopping\n",
    "    best_loss: float = float('inf')\n",
    "    epochs_no_improve: int = 0\n",
    "\n",
    "    # TODO: Move the model to the specified device (CPU or GPU)\n",
    "    model.to(device)\n",
    "\n",
    "\n",
    "    # TODO: Implement the training loop over the specified number of epochs\n",
    "    for epoch in range(epochs):\n",
    "        # TODO: Set the model to training mode\n",
    "        model.train(True)\n",
    "        total_loss: int = 0\n",
    "\n",
    "        # TODO: Implement the loop for training over each batch in the training dataloader\n",
    "        for features, labels, text_len in train_dataloader:\n",
    "            # TODO: Move features and labels to the specified device\n",
    "            features = features.to(device).float()\n",
    "            labels = labels.to(device).long()\n",
    "\n",
    "            # TODO: Clear the gradients\n",
    "            optimizer.zero_grad()\n",
    "\n",
    "            # TODO: Forward pass (compute the model output)\n",
    "            outputs = model(features)\n",
    "\n",
    "            # TODO: Compute the loss\n",
    "            loss = criterion(outputs, labels)\n",
    "\n",
    "            # TODO: Backward pass (compute the gradients)\n",
    "            loss.backward()\n",
    "\n",
    "            # TODO: Update model parameters\n",
    "            optimizer.step()\n",
    "\n",
    "            # TODO: Accumulate the loss\n",
    "            total_loss += loss.item()\n",
    "\n",
    "\n",
    "        # TODO: Implement the evaluation phase\n",
    "        val_loss: int = 0\n",
    "        with torch.no_grad():\n",
    "            # TODO: Loop over the validation dataloader\n",
    "            for features, labels, text_len in val_dataloader:\n",
    "                # TODO: Move features and labels to the specified device\n",
    "                features = features.to(device).float()\n",
    "                labels = labels.to(device).long()\n",
    "\n",
    "                # TODO: Forward pass (compute the model output)\n",
    "                outputs = model(features)\n",
    "\n",
    "                # TODO: Compute the loss\n",
    "                loss = criterion(outputs, labels)\n",
    "\n",
    "                # TODO: Accumulate validation loss\n",
    "                val_loss += loss.item()\n",
    "\n",
    "\n",
    "        # TODO: Print training and validation results every 'print_every' epochs\n",
    "        if epoch % print_every == 0 or epoch == epochs - 1:\n",
    "            # TODO: Calculate training and validation accuracy\n",
    "            train_accuracy = calculate_accuracy(model, train_dataloader, device=device)\n",
    "            val_accuracy = calculate_accuracy(model, val_dataloader, device=device)\n",
    "\n",
    "            # TODO: Store accuracies\n",
    "            train_accuracies[epoch] = train_accuracy\n",
    "            val_accuracies[epoch] = val_accuracy\n",
    "\n",
    "            # TODO: Calculate and print average losses and accuracies\n",
    "            train_loss = total_loss / len(train_dataloader)\n",
    "            val_loss = val_loss / len(val_dataloader)\n",
    "\n",
    "            print(f\"Epoch {epoch}/{epochs} - Train Loss: {train_loss:.4f} - Val Loss: {val_loss:.4f} - Train Accuracy: {train_accuracy:.4f} - Val Accuracy: {val_accuracy:.4f}\")\n",
    "\n",
    "        # TODO: Implement Early Stopping\n",
    "        if val_loss < best_loss:\n",
    "            best_loss = val_loss\n",
    "            epochs_no_improve = 0\n",
    "        else:\n",
    "            epochs_no_improve += 1\n",
    "            \n",
    "        if epochs_no_improve >= patience:\n",
    "            print(f\"Early stopping: {epoch}\")\n",
    "            break\n",
    "\n",
    "    return train_accuracies, val_accuracies"
   ]
  },
  {
   "cell_type": "code",
   "execution_count": 17,
   "metadata": {},
   "outputs": [
    {
     "name": "stderr",
     "output_type": "stream",
     "text": [
      "C:\\Users\\lucia\\AppData\\Local\\Temp\\ipykernel_33068\\1870535092.py:10: UserWarning: To copy construct from a tensor, it is recommended to use sourceTensor.clone().detach() or sourceTensor.clone().detach().requires_grad_(True), rather than torch.tensor(sourceTensor).\n",
      "  text = torch.tensor(self.texts[idx], dtype=torch.long)\n"
     ]
    },
    {
     "name": "stdout",
     "output_type": "stream",
     "text": [
      "Epoch 0/100 - Train Loss: 0.6814 - Val Loss: 0.6570 - Train Accuracy: 0.5699 - Val Accuracy: 0.6393\n",
      "Early stopping: 5\n"
     ]
    }
   ],
   "source": [
    "rnn_train_accuracies, rnn_val_accuracies = train_torch_model(model, train_loader,\n",
    "                                                             val_loader, criterion,\n",
    "                                                             optimizer, epochs=EPOCHS, print_every=PRINT_EVERY,\n",
    "                                                             patience=PATIENCE, device=DEVICE)"
   ]
  },
  {
   "cell_type": "code",
   "execution_count": 18,
   "metadata": {},
   "outputs": [
    {
     "name": "stderr",
     "output_type": "stream",
     "text": [
      "C:\\Users\\lucia\\AppData\\Local\\Temp\\ipykernel_33068\\1870535092.py:10: UserWarning: To copy construct from a tensor, it is recommended to use sourceTensor.clone().detach() or sourceTensor.clone().detach().requires_grad_(True), rather than torch.tensor(sourceTensor).\n",
      "  text = torch.tensor(self.texts[idx], dtype=torch.long)\n"
     ]
    },
    {
     "name": "stdout",
     "output_type": "stream",
     "text": [
      "SA Model - Training Accuracy: 0.7676272225628449\n",
      "SA Model - Validation Accuracy: 0.8034825870646766\n",
      "SA Model - Test Accuracy: 0.773953488372093\n"
     ]
    }
   ],
   "source": [
    "accuracy_train = calculate_accuracy(model, train_loader, device=DEVICE)\n",
    "accuracy_val = calculate_accuracy(model, val_loader, device=DEVICE)\n",
    "accuracy_test = calculate_accuracy(model, test_loader, device=DEVICE)\n",
    "\n",
    "print(f\"SA Model - Training Accuracy: {accuracy_train}\")\n",
    "print(f\"SA Model - Validation Accuracy: {accuracy_val}\")\n",
    "print(f\"SA Model - Test Accuracy: {accuracy_test}\")"
   ]
  }
 ],
 "metadata": {
  "kernelspec": {
   "display_name": "base",
   "language": "python",
   "name": "python3"
  },
  "language_info": {
   "codemirror_mode": {
    "name": "ipython",
    "version": 3
   },
   "file_extension": ".py",
   "mimetype": "text/x-python",
   "name": "python",
   "nbconvert_exporter": "python",
   "pygments_lexer": "ipython3",
   "version": "3.9.12"
  }
 },
 "nbformat": 4,
 "nbformat_minor": 2
}
