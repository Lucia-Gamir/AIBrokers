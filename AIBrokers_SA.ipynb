{
 "cells": [
  {
   "cell_type": "code",
   "execution_count": 1,
   "metadata": {},
   "outputs": [],
   "source": [
    "import torch\n",
    "import pandas as pd\n",
    "import torch.optim as optim\n",
    "import matplotlib.pyplot as plt\n",
    "from typing import Tuple, List, Dict, Any\n",
    "from torch.utils.data import DataLoader, Dataset\n",
    "from gensim.models.keyedvectors import load_word2vec_format\n",
    "from torch.nn.utils.rnn import pad_sequence, pack_padded_sequence"
   ]
  },
  {
   "cell_type": "markdown",
   "metadata": {},
   "source": [
    "### LOAD DATA"
   ]
  },
  {
   "cell_type": "code",
   "execution_count": 3,
   "metadata": {},
   "outputs": [],
   "source": [
    "# Word2Vec embeddings\n",
    "w2v_model = load_word2vec_format(\"GoogleNews-vectors-negative300.bin\", binary = True)"
   ]
  },
  {
   "cell_type": "code",
   "execution_count": 4,
   "metadata": {},
   "outputs": [],
   "source": [
    "def load_data(csv_path, text_column, sentiment_column):\n",
    "    df = pd.read_csv(csv_path)\n",
    "\n",
    "    texts = df[text_column]\n",
    "    sentiments = df[sentiment_column]\n",
    "\n",
    "    target_sentiments = torch.tensor([0 if sentiment == \"NEGATIVE\" else 1 for sentiment in sentiments])    \n",
    "\n",
    "    return texts, target_sentiments"
   ]
  },
  {
   "cell_type": "code",
   "execution_count": 5,
   "metadata": {},
   "outputs": [],
   "source": [
    "# Load data\n",
    "sentiment_col = \"sentiment\"\n",
    "text_col = \"sentence\"\n",
    "\n",
    "train_texts, train_sentiments = load_data('sentiment_train.csv', text_col, sentiment_col)\n",
    "test_texts, test_sentiments = load_data('sentiment_test.csv', text_col, sentiment_col)\n",
    "val_texts, val_sentiments = load_data('sentiment_val.csv', text_col, sentiment_col)"
   ]
  },
  {
   "cell_type": "code",
   "execution_count": 6,
   "metadata": {},
   "outputs": [
    {
     "name": "stdout",
     "output_type": "stream",
     "text": [
      "NEGATIVE: 58.55303494788473%\n",
      "POSITIVE: 41.44696505211527%\n"
     ]
    }
   ],
   "source": [
    "# Class balance\n",
    "num_neg = (train_sentiments == 0).sum().item()\n",
    "num_pos = (train_sentiments == 1).sum().item()\n",
    "\n",
    "print(f\"NEGATIVE: {(num_neg*100)/(num_neg+num_pos)}%\")\n",
    "print(f\"POSITIVE: {(num_pos*100)/(num_neg+num_pos)}%\")"
   ]
  },
  {
   "cell_type": "markdown",
   "metadata": {},
   "source": [
    "### DATASET"
   ]
  },
  {
   "cell_type": "code",
   "execution_count": 7,
   "metadata": {},
   "outputs": [],
   "source": [
    "class SentimentDataset(Dataset):\n",
    "    def __init__(self, texts, targets):\n",
    "        self.texts = texts\n",
    "        self.targets = targets\n",
    "\n",
    "    def __len__(self):\n",
    "        return len(self.texts)\n",
    "\n",
    "    def __getitem__(self, idx):\n",
    "        return self.texts[idx], self.targets[idx]"
   ]
  },
  {
   "cell_type": "markdown",
   "metadata": {},
   "source": [
    "### AUXILIARY FUNCTIONS"
   ]
  },
  {
   "cell_type": "code",
   "execution_count": 8,
   "metadata": {},
   "outputs": [],
   "source": [
    "def word2idx(embedding_model: Any, text: List[str]) -> torch.Tensor:\n",
    "    indexes = []\n",
    "\n",
    "    for word in text:\n",
    "      if word in embedding_model.key_to_index:\n",
    "        indexes.append(embedding_model.key_to_index[word])\n",
    "\n",
    "    return indexes"
   ]
  },
  {
   "cell_type": "code",
   "execution_count": 9,
   "metadata": {},
   "outputs": [],
   "source": [
    "def collate_fn(batch: List[Tuple[List[str], int]]) -> Tuple[torch.Tensor, torch.Tensor, torch.Tensor]:\n",
    "    batch.sort(key=lambda x: len(x[0]), reverse=True)\n",
    "\n",
    "    texts = [x[0] for x in batch]\n",
    "    labels = [int(y[1]) for y in batch]\n",
    "\n",
    "    texts_idx: List[torch.Tensor] = [torch.tensor(word2idx(w2v_model, text), dtype=torch.long) for text in texts]\n",
    "\n",
    "    lengths: List[torch.Tensor] = [torch.tensor(len(text)) if len(text) > 0 else torch.tensor([1]) for text in texts_idx]\n",
    "\n",
    "    texts_padded: torch.Tensor = pad_sequence(texts_idx, batch_first=True)\n",
    "\n",
    "    labels: torch.Tensor = torch.tensor(labels)\n",
    "\n",
    "    return texts_padded, labels, lengths"
   ]
  },
  {
   "cell_type": "code",
   "execution_count": 10,
   "metadata": {},
   "outputs": [],
   "source": [
    "def calculate_accuracy(model: torch.nn.Module, dataloader: DataLoader, device: str = 'cpu') -> float:\n",
    "    model.eval()\n",
    "    model.to(device)\n",
    "    correct = 0\n",
    "    total = 0\n",
    "\n",
    "    with torch.no_grad():\n",
    "        for features, labels, text_lengths in dataloader:\n",
    "            features, labels = features.to(device), labels.to(device)\n",
    "            outputs = model(features, torch.tensor(text_lengths))\n",
    "            predicted = torch.argmax(outputs, dim=1)\n",
    "            correct += (predicted == labels).sum().item()\n",
    "            total += labels.size(0)\n",
    "\n",
    "    return correct / total"
   ]
  },
  {
   "cell_type": "code",
   "execution_count": 36,
   "metadata": {},
   "outputs": [],
   "source": [
    "def train_torch_model(model: torch.nn.Module, train_dataloader: DataLoader,\n",
    "                val_dataloader: DataLoader, criterion: torch.nn.Module,\n",
    "                optimizer: optim.Optimizer, epochs: int,\n",
    "                print_every: int, patience: int,\n",
    "                device: str = 'cpu') -> Tuple[Dict[int, float],Dict[int, float]]:\n",
    "    \n",
    "    train_accuracies: Dict[int, float] = {}\n",
    "    val_accuracies: Dict[int, float] = {}\n",
    "\n",
    "    best_loss: float = float('inf')\n",
    "    epochs_no_improve: int = 0\n",
    "\n",
    "    model.to(device)\n",
    "\n",
    "\n",
    "    for epoch in range(epochs):\n",
    "        model.train(True)\n",
    "        total_loss: int = 0\n",
    "\n",
    "        for features, labels, text_len in train_dataloader:\n",
    "            features = features.to(device)\n",
    "            labels = labels.to(device).long()\n",
    "\n",
    "            optimizer.zero_grad()\n",
    "\n",
    "            outputs = model(features, torch.tensor(text_len))\n",
    "\n",
    "            loss = criterion(outputs, labels)\n",
    "\n",
    "            loss.backward()\n",
    "\n",
    "            optimizer.step()\n",
    "\n",
    "            total_loss += loss.item()\n",
    "\n",
    "\n",
    "        val_loss: int = 0\n",
    "        with torch.no_grad():\n",
    "            for features, labels, text_len in val_dataloader:\n",
    "                features = features.to(device)\n",
    "                labels = labels.to(device).long()\n",
    "\n",
    "                outputs = model(features, torch.tensor(text_len))\n",
    "\n",
    "                loss = criterion(outputs, labels)\n",
    "\n",
    "                val_loss += loss.item()\n",
    "\n",
    "\n",
    "        if epoch % print_every == 0 or epoch == epochs - 1:\n",
    "            train_accuracy = calculate_accuracy(model, train_dataloader, device=device)\n",
    "            val_accuracy = calculate_accuracy(model, val_dataloader, device=device)\n",
    "\n",
    "            train_accuracies[epoch] = train_accuracy\n",
    "            print(train_accuracies)\n",
    "            val_accuracies[epoch] = val_accuracy\n",
    "\n",
    "            train_loss = total_loss / len(train_dataloader)\n",
    "            val_loss = val_loss / len(val_dataloader)\n",
    "\n",
    "            print(f\"Epoch {epoch}/{epochs} - Train Loss: {train_loss:.4f} - Val Loss: {val_loss:.4f} - Train Accuracy: {train_accuracy:.4f} - Val Accuracy: {val_accuracy:.4f}\")\n",
    "\n",
    "        if val_loss < best_loss:\n",
    "            best_loss = val_loss\n",
    "            epochs_no_improve = 0\n",
    "        else:\n",
    "            epochs_no_improve += 1\n",
    "            \n",
    "        if epochs_no_improve >= patience:\n",
    "            print(f\"Early stopping: {epoch}\")\n",
    "            torch.save(model.state_dict(), 'sa_model.pt')\n",
    "            break\n",
    "\n",
    "        \n",
    "    return train_accuracies, val_accuracies"
   ]
  },
  {
   "cell_type": "markdown",
   "metadata": {},
   "source": [
    "---------------------------------------------------------------"
   ]
  },
  {
   "cell_type": "markdown",
   "metadata": {},
   "source": [
    "### MODELS"
   ]
  },
  {
   "cell_type": "code",
   "execution_count": 12,
   "metadata": {},
   "outputs": [],
   "source": [
    "class SentimentAnalysisModel(torch.nn.Module):\n",
    "    def __init__(self, embedding_weights: torch.Tensor, hidden_dim: int, num_layers: int):\n",
    "        super().__init__()\n",
    "        embedding_dim: int = embedding_weights.shape[1]\n",
    "        self.embedding: torch.nn.Embedding = torch.nn.Embedding.from_pretrained(embedding_weights, freeze=True)\n",
    "        self.lstm: torch.nn.LSTM = torch.nn.LSTM(input_size=embedding_dim, hidden_size=hidden_dim, num_layers=num_layers, dropout=0.2)\n",
    "        self.fc: torch.nn.Linear = torch.nn.Linear(in_features=hidden_dim, out_features=2)\n",
    "\n",
    "    def forward(self, x: torch.Tensor, text_lengths: torch.Tensor) -> torch.Tensor:\n",
    "        embedded: torch.Tensor = self.embedding(x)\n",
    "        packed_embedded: torch.Tensor = pack_padded_sequence(embedded, torch.tensor(text_lengths).cpu(), batch_first=True, enforce_sorted=False)\n",
    "        packed_output, (hidden, cell) = self.lstm(packed_embedded)\n",
    "        hidden: torch.Tensor = self.fc(hidden[-1])\n",
    "        return hidden"
   ]
  },
  {
   "cell_type": "code",
   "execution_count": 13,
   "metadata": {},
   "outputs": [],
   "source": [
    "class BidirectionalSentimentAnalysisModel(torch.nn.Module):\n",
    "    def __init__(self, embedding_weights: torch.Tensor, hidden_dim: int, num_layers: int, dropout_rate: float = 0.5):\n",
    "        super().__init__()\n",
    "        embedding_dim: int = embedding_weights.shape[1]\n",
    "        self.embedding: torch.nn.Embedding = torch.nn.Embedding.from_pretrained(embedding_weights, freeze=True)\n",
    "\n",
    "        self.lstm: torch.nn.LSTM = torch.nn.LSTM(\n",
    "            input_size=embedding_dim,\n",
    "            hidden_size=hidden_dim,\n",
    "            num_layers=num_layers,\n",
    "            dropout=dropout_rate if num_layers > 1 else 0.0,\n",
    "            bidirectional=True,\n",
    "            batch_first=True\n",
    "        )\n",
    "\n",
    "        self.dropout: torch.nn.Dropout = torch.nn.Dropout(dropout_rate)\n",
    "        self.fc: torch.nn.Linear = torch.nn.Linear(in_features=hidden_dim * 2, out_features=2)\n",
    "\n",
    "    def forward(self, x: torch.Tensor, text_lengths: torch.Tensor) -> torch.Tensor:\n",
    "        embedded: torch.Tensor = self.embedding(x)\n",
    "        packed_embedded: torch.Tensor = pack_padded_sequence(embedded, text_lengths.cpu(), batch_first=True, enforce_sorted=False)\n",
    "        packed_output, (hidden, cell) = self.lstm(packed_embedded)\n",
    "        forward_hidden: torch.Tensor = hidden[-2]\n",
    "        backward_hidden: torch.Tensor = hidden[-1]\n",
    "        final_hidden: torch.Tensor = torch.cat((forward_hidden, backward_hidden), dim=1)\n",
    "        final_hidden = self.dropout(final_hidden)\n",
    "        output: torch.Tensor = self.fc(final_hidden)\n",
    "        \n",
    "        return output"
   ]
  },
  {
   "cell_type": "code",
   "execution_count": 14,
   "metadata": {},
   "outputs": [],
   "source": [
    "class TCNBlock(torch.nn.Module):\n",
    "    def __init__(self, in_channels, out_channels, kernel_size, dilation):\n",
    "        super().__init__()\n",
    "        self.conv = torch.nn.Conv1d(\n",
    "            in_channels, \n",
    "            out_channels, \n",
    "            kernel_size=kernel_size, \n",
    "            padding=(kernel_size - 1) * dilation, \n",
    "            dilation=dilation\n",
    "        )\n",
    "        self.relu = torch.nn.ReLU()\n",
    "        self.bn = torch.nn.BatchNorm1d(out_channels)\n",
    "        self.dropout = torch.nn.Dropout(0.2)\n",
    "\n",
    "    def forward(self, x):\n",
    "        out = self.conv(x)\n",
    "        out = out[:, :, :-self.conv.padding[0]] \n",
    "        out = self.relu(out)\n",
    "        out = self.bn(out)\n",
    "        return self.dropout(out)\n",
    "\n",
    "class SentimentTCN(torch.nn.Module):\n",
    "    def __init__(self, embedding_weights: torch.Tensor, num_classes: int = 2):\n",
    "        super().__init__()\n",
    "        embedding_dim: int = embedding_weights.shape[1]\n",
    "        self.embedding: torch.nn.Embedding = torch.nn.Embedding.from_pretrained(embedding_weights, freeze=True)\n",
    "\n",
    "        self.tcn1 = TCNBlock(embedding_dim, 128, kernel_size=3, dilation=1)\n",
    "        self.tcn2 = TCNBlock(128, 128, kernel_size=3, dilation=2)\n",
    "        self.tcn3 = TCNBlock(128, 128, kernel_size=3, dilation=4)\n",
    "\n",
    "        self.pool = torch.nn.AdaptiveMaxPool1d(1)\n",
    "        self.fc = torch.nn.Linear(128, num_classes)\n",
    "\n",
    "    def forward(self, x: torch.Tensor, text_lengths: torch.Tensor) -> torch.Tensor:\n",
    "        embedded: torch.Tensor = self.embedding(x)          \n",
    "        embedded = embedded.transpose(1, 2)                 \n",
    "\n",
    "        x = self.tcn1(embedded)\n",
    "        x = self.tcn2(x)\n",
    "        x = self.tcn3(x)\n",
    "\n",
    "        x = self.pool(x).squeeze(2)                       \n",
    "        output = self.fc(x)                               \n",
    "        return output\n"
   ]
  },
  {
   "cell_type": "code",
   "execution_count": 15,
   "metadata": {},
   "outputs": [],
   "source": [
    "class SentimentDAN(torch.nn.Module):\n",
    "    def __init__(self, embedding_weights: torch.Tensor, hidden_dim: int = 256, num_classes: int = 2):\n",
    "        super().__init__()\n",
    "        embedding_dim: int = embedding_weights.shape[1]\n",
    "        self.embedding: torch.nn.Embedding = torch.nn.Embedding.from_pretrained(embedding_weights, freeze=True)\n",
    "\n",
    "        self.fc1 = torch.nn.Linear(embedding_dim, hidden_dim)\n",
    "        self.relu = torch.nn.ReLU()\n",
    "        self.dropout = torch.nn.Dropout(0.3)\n",
    "        self.fc2 = torch.nn.Linear(hidden_dim, num_classes)\n",
    "\n",
    "    def forward(self, x: torch.Tensor, text_lengths: torch.Tensor) -> torch.Tensor:\n",
    "        embedded: torch.Tensor = self.embedding(x)          \n",
    "        x = embedded.mean(dim=1)                            \n",
    "        x = self.fc1(x)\n",
    "        x = self.relu(x)\n",
    "        x = self.dropout(x)\n",
    "        return self.fc2(x)                                \n"
   ]
  },
  {
   "cell_type": "markdown",
   "metadata": {},
   "source": [
    "------------------------------------------------------------------"
   ]
  },
  {
   "cell_type": "markdown",
   "metadata": {},
   "source": [
    "### TRAIN MODEL"
   ]
  },
  {
   "cell_type": "code",
   "execution_count": 16,
   "metadata": {},
   "outputs": [],
   "source": [
    "# Data\n",
    "BATCH_SIZE = 64\n",
    "\n",
    "train_dataset = SentimentDataset(train_texts, train_sentiments)\n",
    "val_dataset = SentimentDataset(val_texts, val_sentiments)\n",
    "test_dataset = SentimentDataset(test_texts, test_sentiments)\n",
    "train_loader = DataLoader(train_dataset, batch_size=BATCH_SIZE, shuffle=True , collate_fn=collate_fn)\n",
    "test_loader = DataLoader(test_dataset, batch_size=BATCH_SIZE, collate_fn=collate_fn)\n",
    "val_loader = DataLoader(val_dataset, batch_size=BATCH_SIZE, collate_fn=collate_fn)"
   ]
  },
  {
   "cell_type": "code",
   "execution_count": 24,
   "metadata": {},
   "outputs": [
    {
     "name": "stderr",
     "output_type": "stream",
     "text": [
      "C:\\Users\\smore\\AppData\\Local\\Packages\\PythonSoftwareFoundation.Python.3.11_qbz5n2kfra8p0\\LocalCache\\local-packages\\Python311\\site-packages\\torch\\nn\\modules\\rnn.py:123: UserWarning: dropout option adds dropout after all but last recurrent layer, so non-zero dropout expects num_layers greater than 1, but got dropout=0.2 and num_layers=1\n",
      "  warnings.warn(\n"
     ]
    }
   ],
   "source": [
    "# Hyperparameters, model, loss function and optimizer\n",
    "EMBEDDING_DIM = 300\n",
    "NUM_LAYERS = 1\n",
    "DROPOUT_RATE = 0.5\n",
    "HIDDEN_DIM = 32\n",
    "EPOCHS = 100\n",
    "PRINT_EVERY = 10\n",
    "PATIENCE = 10\n",
    "LEARNING_RATE = 1e-3 \n",
    "WEIGHT_DECAY = 1e-5\n",
    "NUM_CLASSES = 2\n",
    "DEVICE = torch.device(\"cuda\" if torch.cuda.is_available() else \"cpu\")\n",
    "embedding_weights = torch.tensor(w2v_model.vectors)\n",
    "\n",
    "# Base model\n",
    "base_model = SentimentAnalysisModel(\n",
    "    embedding_weights=embedding_weights,\n",
    "    hidden_dim=HIDDEN_DIM,\n",
    "    num_layers=NUM_LAYERS\n",
    ")\n",
    "\n",
    "# Bidirectional\n",
    "bilstm_model = BidirectionalSentimentAnalysisModel(\n",
    "    embedding_weights=embedding_weights,\n",
    "    hidden_dim=HIDDEN_DIM,\n",
    "    num_layers=NUM_LAYERS\n",
    ")\n",
    "\n",
    "# TCN\n",
    "tcn_model = SentimentTCN(\n",
    "    embedding_weights=embedding_weights,\n",
    "    num_classes=NUM_CLASSES\n",
    ")\n",
    "\n",
    "# DAN\n",
    "dan_model = SentimentDAN(\n",
    "    embedding_weights=embedding_weights,\n",
    "    hidden_dim=HIDDEN_DIM,\n",
    "    num_classes=NUM_CLASSES\n",
    ")\n",
    "\n",
    "# CHANGE MODEL\n",
    "model = tcn_model\n",
    "\n",
    "criterion = torch.nn.CrossEntropyLoss()\n",
    "optimizer = optim.Adam(model.parameters(), lr=LEARNING_RATE, weight_decay=WEIGHT_DECAY)\n",
    "#optimizer = optim.Adam(model.parameters(), lr=LEARNING_RATE)"
   ]
  },
  {
   "cell_type": "code",
   "execution_count": 37,
   "metadata": {},
   "outputs": [
    {
     "name": "stdout",
     "output_type": "stream",
     "text": [
      "{0: 0.9944819129368485}\n",
      "Epoch 0/100 - Train Loss: 0.1365 - Val Loss: 1.0964 - Train Accuracy: 0.9945 - Val Accuracy: 0.6667\n",
      "{0: 0.9944819129368485, 10: 0.9996934396076027}\n",
      "Epoch 10/100 - Train Loss: 0.1046 - Val Loss: 1.1744 - Train Accuracy: 0.9997 - Val Accuracy: 0.7139\n",
      "Early stopping: 10\n"
     ]
    }
   ],
   "source": [
    "# Train model\n",
    "sa_train_accuracies, sa_val_accuracies = train_torch_model(\n",
    "    model, train_loader, val_loader, criterion, optimizer,\n",
    "    epochs=EPOCHS, print_every=PRINT_EVERY, patience=PATIENCE, device=DEVICE\n",
    ")"
   ]
  },
  {
   "cell_type": "code",
   "execution_count": null,
   "metadata": {},
   "outputs": [
    {
     "name": "stdout",
     "output_type": "stream",
     "text": [
      "Training Accuracy: 0.9996934396076027\n",
      "Validation Accuracy: 0.7139303482587065\n",
      "Test Accuracy: 0.6734883720930233\n",
      "{0: 0.9944819129368485, 10: 0.9996934396076027}\n"
     ]
    }
   ],
   "source": [
    "sa_accuracy_train = calculate_accuracy(model, train_loader, device=DEVICE)\n",
    "sa_accuracy_val = calculate_accuracy(model, val_loader, device=DEVICE)\n",
    "sa_accuracy_test = calculate_accuracy(model, test_loader, device=DEVICE)\n",
    "\n",
    "print(f\"Training Accuracy: {sa_accuracy_train}\")\n",
    "print(f\"Validation Accuracy: {sa_accuracy_val}\")\n",
    "print(f\"Test Accuracy: {sa_accuracy_test}\")"
   ]
  },
  {
   "cell_type": "code",
   "execution_count": null,
   "metadata": {},
   "outputs": [
    {
     "ename": "ValueError",
     "evalue": "x and y must have same first dimension, but have shapes (2,) and (1,)",
     "output_type": "error",
     "traceback": [
      "\u001b[1;31m---------------------------------------------------------------------------\u001b[0m",
      "\u001b[1;31mValueError\u001b[0m                                Traceback (most recent call last)",
      "Cell \u001b[1;32mIn[39], line 7\u001b[0m\n\u001b[0;32m      4\u001b[0m sa_epochs \u001b[38;5;241m=\u001b[39m [\u001b[38;5;241m10\u001b[39m\u001b[38;5;241m*\u001b[39mi \u001b[38;5;28;01mfor\u001b[39;00m i \u001b[38;5;129;01min\u001b[39;00m \u001b[38;5;28mrange\u001b[39m(\u001b[38;5;28mlen\u001b[39m(sa_train_accuracies))]\n\u001b[0;32m      6\u001b[0m \u001b[38;5;66;03m# Plot the evolution during training\u001b[39;00m\n\u001b[1;32m----> 7\u001b[0m \u001b[43mplt\u001b[49m\u001b[38;5;241;43m.\u001b[39;49m\u001b[43mplot\u001b[49m\u001b[43m(\u001b[49m\u001b[43msa_epochs\u001b[49m\u001b[43m,\u001b[49m\u001b[43m \u001b[49m\u001b[43msa_train_accuracies\u001b[49m\u001b[43m,\u001b[49m\u001b[43m \u001b[49m\u001b[43mlabel\u001b[49m\u001b[38;5;241;43m=\u001b[39;49m\u001b[38;5;124;43m'\u001b[39;49m\u001b[38;5;124;43msa Train\u001b[39;49m\u001b[38;5;124;43m'\u001b[39;49m\u001b[43m,\u001b[49m\u001b[43m \u001b[49m\u001b[43mlinestyle\u001b[49m\u001b[38;5;241;43m=\u001b[39;49m\u001b[38;5;124;43m'\u001b[39;49m\u001b[38;5;124;43m-\u001b[39;49m\u001b[38;5;124;43m'\u001b[39;49m\u001b[43m,\u001b[49m\u001b[43m \u001b[49m\u001b[43mcolor\u001b[49m\u001b[38;5;241;43m=\u001b[39;49m\u001b[38;5;124;43m'\u001b[39;49m\u001b[38;5;124;43mblue\u001b[39;49m\u001b[38;5;124;43m'\u001b[39;49m\u001b[43m)\u001b[49m\n\u001b[0;32m      8\u001b[0m plt\u001b[38;5;241m.\u001b[39mplot(sa_epochs, sa_val_accuracies, label\u001b[38;5;241m=\u001b[39m\u001b[38;5;124m'\u001b[39m\u001b[38;5;124msa Validation\u001b[39m\u001b[38;5;124m'\u001b[39m, linestyle\u001b[38;5;241m=\u001b[39m\u001b[38;5;124m'\u001b[39m\u001b[38;5;124m--\u001b[39m\u001b[38;5;124m'\u001b[39m, color\u001b[38;5;241m=\u001b[39m\u001b[38;5;124m'\u001b[39m\u001b[38;5;124mblue\u001b[39m\u001b[38;5;124m'\u001b[39m)\n\u001b[0;32m      9\u001b[0m plt\u001b[38;5;241m.\u001b[39maxhline(y\u001b[38;5;241m=\u001b[39msa_accuracy_test, label\u001b[38;5;241m=\u001b[39m\u001b[38;5;124m'\u001b[39m\u001b[38;5;124msa Test\u001b[39m\u001b[38;5;124m'\u001b[39m, linestyle\u001b[38;5;241m=\u001b[39m\u001b[38;5;124m'\u001b[39m\u001b[38;5;124m-.\u001b[39m\u001b[38;5;124m'\u001b[39m, color\u001b[38;5;241m=\u001b[39m\u001b[38;5;124m'\u001b[39m\u001b[38;5;124mlightblue\u001b[39m\u001b[38;5;124m'\u001b[39m, alpha\u001b[38;5;241m=\u001b[39m\u001b[38;5;241m0.5\u001b[39m)\n",
      "File \u001b[1;32m~\\AppData\\Local\\Packages\\PythonSoftwareFoundation.Python.3.11_qbz5n2kfra8p0\\LocalCache\\local-packages\\Python311\\site-packages\\matplotlib\\pyplot.py:3578\u001b[0m, in \u001b[0;36mplot\u001b[1;34m(scalex, scaley, data, *args, **kwargs)\u001b[0m\n\u001b[0;32m   3570\u001b[0m \u001b[38;5;129m@_copy_docstring_and_deprecators\u001b[39m(Axes\u001b[38;5;241m.\u001b[39mplot)\n\u001b[0;32m   3571\u001b[0m \u001b[38;5;28;01mdef\u001b[39;00m \u001b[38;5;21mplot\u001b[39m(\n\u001b[0;32m   3572\u001b[0m     \u001b[38;5;241m*\u001b[39margs: \u001b[38;5;28mfloat\u001b[39m \u001b[38;5;241m|\u001b[39m ArrayLike \u001b[38;5;241m|\u001b[39m \u001b[38;5;28mstr\u001b[39m,\n\u001b[1;32m   (...)\u001b[0m\n\u001b[0;32m   3576\u001b[0m     \u001b[38;5;241m*\u001b[39m\u001b[38;5;241m*\u001b[39mkwargs,\n\u001b[0;32m   3577\u001b[0m ) \u001b[38;5;241m-\u001b[39m\u001b[38;5;241m>\u001b[39m \u001b[38;5;28mlist\u001b[39m[Line2D]:\n\u001b[1;32m-> 3578\u001b[0m     \u001b[38;5;28;01mreturn\u001b[39;00m \u001b[43mgca\u001b[49m\u001b[43m(\u001b[49m\u001b[43m)\u001b[49m\u001b[38;5;241;43m.\u001b[39;49m\u001b[43mplot\u001b[49m\u001b[43m(\u001b[49m\n\u001b[0;32m   3579\u001b[0m \u001b[43m        \u001b[49m\u001b[38;5;241;43m*\u001b[39;49m\u001b[43margs\u001b[49m\u001b[43m,\u001b[49m\n\u001b[0;32m   3580\u001b[0m \u001b[43m        \u001b[49m\u001b[43mscalex\u001b[49m\u001b[38;5;241;43m=\u001b[39;49m\u001b[43mscalex\u001b[49m\u001b[43m,\u001b[49m\n\u001b[0;32m   3581\u001b[0m \u001b[43m        \u001b[49m\u001b[43mscaley\u001b[49m\u001b[38;5;241;43m=\u001b[39;49m\u001b[43mscaley\u001b[49m\u001b[43m,\u001b[49m\n\u001b[0;32m   3582\u001b[0m \u001b[43m        \u001b[49m\u001b[38;5;241;43m*\u001b[39;49m\u001b[38;5;241;43m*\u001b[39;49m\u001b[43m(\u001b[49m\u001b[43m{\u001b[49m\u001b[38;5;124;43m\"\u001b[39;49m\u001b[38;5;124;43mdata\u001b[39;49m\u001b[38;5;124;43m\"\u001b[39;49m\u001b[43m:\u001b[49m\u001b[43m \u001b[49m\u001b[43mdata\u001b[49m\u001b[43m}\u001b[49m\u001b[43m \u001b[49m\u001b[38;5;28;43;01mif\u001b[39;49;00m\u001b[43m \u001b[49m\u001b[43mdata\u001b[49m\u001b[43m \u001b[49m\u001b[38;5;129;43;01mis\u001b[39;49;00m\u001b[43m \u001b[49m\u001b[38;5;129;43;01mnot\u001b[39;49;00m\u001b[43m \u001b[49m\u001b[38;5;28;43;01mNone\u001b[39;49;00m\u001b[43m \u001b[49m\u001b[38;5;28;43;01melse\u001b[39;49;00m\u001b[43m \u001b[49m\u001b[43m{\u001b[49m\u001b[43m}\u001b[49m\u001b[43m)\u001b[49m\u001b[43m,\u001b[49m\n\u001b[0;32m   3583\u001b[0m \u001b[43m        \u001b[49m\u001b[38;5;241;43m*\u001b[39;49m\u001b[38;5;241;43m*\u001b[39;49m\u001b[43mkwargs\u001b[49m\u001b[43m,\u001b[49m\n\u001b[0;32m   3584\u001b[0m \u001b[43m    \u001b[49m\u001b[43m)\u001b[49m\n",
      "File \u001b[1;32m~\\AppData\\Local\\Packages\\PythonSoftwareFoundation.Python.3.11_qbz5n2kfra8p0\\LocalCache\\local-packages\\Python311\\site-packages\\matplotlib\\axes\\_axes.py:1721\u001b[0m, in \u001b[0;36mAxes.plot\u001b[1;34m(self, scalex, scaley, data, *args, **kwargs)\u001b[0m\n\u001b[0;32m   1478\u001b[0m \u001b[38;5;250m\u001b[39m\u001b[38;5;124;03m\"\"\"\u001b[39;00m\n\u001b[0;32m   1479\u001b[0m \u001b[38;5;124;03mPlot y versus x as lines and/or markers.\u001b[39;00m\n\u001b[0;32m   1480\u001b[0m \n\u001b[1;32m   (...)\u001b[0m\n\u001b[0;32m   1718\u001b[0m \u001b[38;5;124;03m(``'green'``) or hex strings (``'#008000'``).\u001b[39;00m\n\u001b[0;32m   1719\u001b[0m \u001b[38;5;124;03m\"\"\"\u001b[39;00m\n\u001b[0;32m   1720\u001b[0m kwargs \u001b[38;5;241m=\u001b[39m cbook\u001b[38;5;241m.\u001b[39mnormalize_kwargs(kwargs, mlines\u001b[38;5;241m.\u001b[39mLine2D)\n\u001b[1;32m-> 1721\u001b[0m lines \u001b[38;5;241m=\u001b[39m [\u001b[38;5;241m*\u001b[39m\u001b[38;5;28mself\u001b[39m\u001b[38;5;241m.\u001b[39m_get_lines(\u001b[38;5;28mself\u001b[39m, \u001b[38;5;241m*\u001b[39margs, data\u001b[38;5;241m=\u001b[39mdata, \u001b[38;5;241m*\u001b[39m\u001b[38;5;241m*\u001b[39mkwargs)]\n\u001b[0;32m   1722\u001b[0m \u001b[38;5;28;01mfor\u001b[39;00m line \u001b[38;5;129;01min\u001b[39;00m lines:\n\u001b[0;32m   1723\u001b[0m     \u001b[38;5;28mself\u001b[39m\u001b[38;5;241m.\u001b[39madd_line(line)\n",
      "File \u001b[1;32m~\\AppData\\Local\\Packages\\PythonSoftwareFoundation.Python.3.11_qbz5n2kfra8p0\\LocalCache\\local-packages\\Python311\\site-packages\\matplotlib\\axes\\_base.py:303\u001b[0m, in \u001b[0;36m_process_plot_var_args.__call__\u001b[1;34m(self, axes, data, *args, **kwargs)\u001b[0m\n\u001b[0;32m    301\u001b[0m     this \u001b[38;5;241m+\u001b[39m\u001b[38;5;241m=\u001b[39m args[\u001b[38;5;241m0\u001b[39m],\n\u001b[0;32m    302\u001b[0m     args \u001b[38;5;241m=\u001b[39m args[\u001b[38;5;241m1\u001b[39m:]\n\u001b[1;32m--> 303\u001b[0m \u001b[38;5;28;01myield from\u001b[39;00m \u001b[38;5;28;43mself\u001b[39;49m\u001b[38;5;241;43m.\u001b[39;49m\u001b[43m_plot_args\u001b[49m\u001b[43m(\u001b[49m\n\u001b[0;32m    304\u001b[0m \u001b[43m    \u001b[49m\u001b[43maxes\u001b[49m\u001b[43m,\u001b[49m\u001b[43m \u001b[49m\u001b[43mthis\u001b[49m\u001b[43m,\u001b[49m\u001b[43m \u001b[49m\u001b[43mkwargs\u001b[49m\u001b[43m,\u001b[49m\u001b[43m \u001b[49m\u001b[43mambiguous_fmt_datakey\u001b[49m\u001b[38;5;241;43m=\u001b[39;49m\u001b[43mambiguous_fmt_datakey\u001b[49m\u001b[43m)\u001b[49m\n",
      "File \u001b[1;32m~\\AppData\\Local\\Packages\\PythonSoftwareFoundation.Python.3.11_qbz5n2kfra8p0\\LocalCache\\local-packages\\Python311\\site-packages\\matplotlib\\axes\\_base.py:499\u001b[0m, in \u001b[0;36m_process_plot_var_args._plot_args\u001b[1;34m(self, axes, tup, kwargs, return_kwargs, ambiguous_fmt_datakey)\u001b[0m\n\u001b[0;32m    496\u001b[0m     axes\u001b[38;5;241m.\u001b[39myaxis\u001b[38;5;241m.\u001b[39mupdate_units(y)\n\u001b[0;32m    498\u001b[0m \u001b[38;5;28;01mif\u001b[39;00m x\u001b[38;5;241m.\u001b[39mshape[\u001b[38;5;241m0\u001b[39m] \u001b[38;5;241m!=\u001b[39m y\u001b[38;5;241m.\u001b[39mshape[\u001b[38;5;241m0\u001b[39m]:\n\u001b[1;32m--> 499\u001b[0m     \u001b[38;5;28;01mraise\u001b[39;00m \u001b[38;5;167;01mValueError\u001b[39;00m(\u001b[38;5;124mf\u001b[39m\u001b[38;5;124m\"\u001b[39m\u001b[38;5;124mx and y must have same first dimension, but \u001b[39m\u001b[38;5;124m\"\u001b[39m\n\u001b[0;32m    500\u001b[0m                      \u001b[38;5;124mf\u001b[39m\u001b[38;5;124m\"\u001b[39m\u001b[38;5;124mhave shapes \u001b[39m\u001b[38;5;132;01m{\u001b[39;00mx\u001b[38;5;241m.\u001b[39mshape\u001b[38;5;132;01m}\u001b[39;00m\u001b[38;5;124m and \u001b[39m\u001b[38;5;132;01m{\u001b[39;00my\u001b[38;5;241m.\u001b[39mshape\u001b[38;5;132;01m}\u001b[39;00m\u001b[38;5;124m\"\u001b[39m)\n\u001b[0;32m    501\u001b[0m \u001b[38;5;28;01mif\u001b[39;00m x\u001b[38;5;241m.\u001b[39mndim \u001b[38;5;241m>\u001b[39m \u001b[38;5;241m2\u001b[39m \u001b[38;5;129;01mor\u001b[39;00m y\u001b[38;5;241m.\u001b[39mndim \u001b[38;5;241m>\u001b[39m \u001b[38;5;241m2\u001b[39m:\n\u001b[0;32m    502\u001b[0m     \u001b[38;5;28;01mraise\u001b[39;00m \u001b[38;5;167;01mValueError\u001b[39;00m(\u001b[38;5;124mf\u001b[39m\u001b[38;5;124m\"\u001b[39m\u001b[38;5;124mx and y can be no greater than 2D, but have \u001b[39m\u001b[38;5;124m\"\u001b[39m\n\u001b[0;32m    503\u001b[0m                      \u001b[38;5;124mf\u001b[39m\u001b[38;5;124m\"\u001b[39m\u001b[38;5;124mshapes \u001b[39m\u001b[38;5;132;01m{\u001b[39;00mx\u001b[38;5;241m.\u001b[39mshape\u001b[38;5;132;01m}\u001b[39;00m\u001b[38;5;124m and \u001b[39m\u001b[38;5;132;01m{\u001b[39;00my\u001b[38;5;241m.\u001b[39mshape\u001b[38;5;132;01m}\u001b[39;00m\u001b[38;5;124m\"\u001b[39m)\n",
      "\u001b[1;31mValueError\u001b[0m: x and y must have same first dimension, but have shapes (2,) and (1,)"
     ]
    },
    {
     "data": {
      "image/png": "[encoded data removed]",
      "text/plain": [
       "<Figure size 640x480 with 1 Axes>"
      ]
     },
     "metadata": {},
     "output_type": "display_data"
    },
    {
     "ename": "",
     "evalue": "",
     "output_type": "error",
     "traceback": [
      "\u001b[1;31mThe Kernel crashed while executing code in the current cell or a previous cell. \n",
      "\u001b[1;31mPlease review the code in the cell(s) to identify a possible cause of the failure. \n",
      "\u001b[1;31mClick <a href='https://aka.ms/vscodeJupyterKernelCrash'>here</a> for more info. \n",
      "\u001b[1;31mView Jupyter <a href='command:jupyter.viewOutput'>log</a> for further details."
     ]
    }
   ],
   "source": [
    "# Obtain epochs where accuracy was calculated in order to plot them\n",
    "sa_train_accuracies_epochs= sorted(sa_train_accuracies)\n",
    "sa_val_accuracies_epochs= sorted(sa_val_accuracies)\n",
    "sa_epochs = [10*i for i in range(len(sa_train_accuracies))]\n",
    "\n",
    "# Plot the evolution during training\n",
    "plt.plot(sa_epochs, sa_train_accuracies, label='sa Train', linestyle='-', color='blue')\n",
    "plt.plot(sa_epochs, sa_val_accuracies, label='sa Validation', linestyle='--', color='blue')\n",
    "plt.axhline(y=sa_accuracy_test, label='sa Test', linestyle='-.', color='lightblue', alpha=0.5)\n",
    "plt.suptitle('Recurrent Neural Network model Accuracy Evolution')\n",
    "plt.xlabel('Epochs')\n",
    "plt.ylabel('Accuracy')\n",
    "plt.legend()\n",
    "plt.show()"
   ]
  }
 ],
 "metadata": {
  "kernelspec": {
   "display_name": "Python 3",
   "language": "python",
   "name": "python3"
  },
  "language_info": {
   "codemirror_mode": {
    "name": "ipython",
    "version": 3
   },
   "file_extension": ".py",
   "mimetype": "text/x-python",
   "name": "python",
   "nbconvert_exporter": "python",
   "pygments_lexer": "ipython3",
   "version": "3.11.9"
  }
 },
 "nbformat": 4,
 "nbformat_minor": 2
}
