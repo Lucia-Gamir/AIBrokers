{
 "cells": [
  {
   "cell_type": "code",
   "execution_count": 33,
   "metadata": {},
   "outputs": [],
   "source": [
    "from gensim.models.keyedvectors import load_word2vec_format\n",
    "from gensim.models import KeyedVectors\n",
    "import pandas as pd\n",
    "import zipfile\n",
    "import os\n",
    "import urllib.request"
   ]
  },
  {
   "cell_type": "markdown",
   "metadata": {},
   "source": [
    "--------------------------------------------------------------------------"
   ]
  },
  {
   "cell_type": "markdown",
   "metadata": {},
   "source": [
    "### WORD2VEC"
   ]
  },
  {
   "cell_type": "code",
   "execution_count": 26,
   "metadata": {},
   "outputs": [],
   "source": [
    "# Load embeddings model to use in the assignment\n",
    "w2v_model = load_word2vec_format(\"GoogleNews-vectors-negative300.bin\", binary = True)"
   ]
  },
  {
   "cell_type": "code",
   "execution_count": 27,
   "metadata": {},
   "outputs": [],
   "source": [
    "# Words of the model\n",
    "w2v_words = list(w2v_model.key_to_index.keys())"
   ]
  },
  {
   "cell_type": "code",
   "execution_count": null,
   "metadata": {},
   "outputs": [],
   "source": [
    "# Words of our vocab\n",
    "csv_paths = [\"finer_ord_train.csv\", \"finer_ord_validation.csv\", \"finer_ord_test.csv\"]\n",
    "fin_words = set()\n",
    "\n",
    "for csv_path in csv_paths:\n",
    "    df = pd.read_csv(csv_path)\n",
    "    words = df[\"gold_token\"].astype(str).values \n",
    "    for word in words:\n",
    "        fin_words.add(word)"
   ]
  },
  {
   "cell_type": "code",
   "execution_count": 32,
   "metadata": {},
   "outputs": [
    {
     "name": "stdout",
     "output_type": "stream",
     "text": [
      "w2v percentage: 88.28588826305374\n"
     ]
    }
   ],
   "source": [
    "common_words = fin_words.intersection(w2v_words)\n",
    "percentage = (len(common_words) / len(fin_words)) * 100\n",
    "print(f\"w2v percentage: {percentage}\")"
   ]
  },
  {
   "cell_type": "markdown",
   "metadata": {},
   "source": [
    "-----------------------------------------------------------------------------------------"
   ]
  },
  {
   "cell_type": "markdown",
   "metadata": {},
   "source": [
    "### GLOVE"
   ]
  },
  {
   "cell_type": "code",
   "execution_count": null,
   "metadata": {},
   "outputs": [],
   "source": [
    "glove_zip = \"glove.6B.zip\"\n",
    "glove_url = \"https://nlp.stanford.edu/data/glove.6B.zip\"\n",
    "\n",
    "if not os.path.exists(glove_zip):\n",
    "    print(\"Descargando GloVe...\")\n",
    "    urllib.request.urlretrieve(glove_url, glove_zip)\n",
    "\n",
    "if not os.path.exists(\"glove.6B.100d.txt\"):\n",
    "    print(\"Extrayendo archivos...\")\n",
    "    with zipfile.ZipFile(glove_zip, 'r') as zip_ref:\n",
    "        zip_ref.extractall()\n",
    "\n",
    "def cargar_glove(file_path):\n",
    "    embeddings = {}\n",
    "    with open(file_path, 'r', encoding='utf-8') as f:\n",
    "        for line in f:\n",
    "            values = line.strip().split()\n",
    "            word = values[0]\n",
    "            vector = list(map(float, values[1:]))\n",
    "            embeddings[word] = vector\n",
    "    return embeddings\n",
    "\n",
    "glove_path = \"glove.6B.100d.txt\"\n",
    "glove = cargar_glove(glove_path)\n",
    "\n",
    "print(f\"Número de palabras cargadas: {len(glove)}\")"
   ]
  },
  {
   "cell_type": "code",
   "execution_count": null,
   "metadata": {},
   "outputs": [],
   "source": [
    "csv_paths = [\"finer_ord_train.csv\", \"finer_ord_validation.csv\", \"finer_ord_test.csv\"]\n",
    "fin_words = set()\n",
    "glove_words = list(glove.keys())\n",
    "\n",
    "for csv_path in csv_paths:\n",
    "    df = pd.read_csv(csv_path)\n",
    "    words = df[\"gold_token\"].astype(str).values \n",
    "    for word in words:\n",
    "        fin_words.add(word)\n",
    "\n",
    "common_words = fin_words.intersection(glove_words)\n",
    "percentage = (len(common_words) / len(fin_words)) * 100\n",
    "print(f\"Glove percentage: {percentage}\")"
   ]
  },
  {
   "cell_type": "markdown",
   "metadata": {},
   "source": [
    "-------------------------------------------------------------------------------------------------------"
   ]
  },
  {
   "cell_type": "markdown",
   "metadata": {},
   "source": [
    "### KEYEYED VECTORS"
   ]
  },
  {
   "cell_type": "code",
   "execution_count": null,
   "metadata": {},
   "outputs": [],
   "source": [
    "key_model = KeyedVectors.load_word2vec_format(\"cc.es.300.vec\", binary=False)"
   ]
  },
  {
   "cell_type": "code",
   "execution_count": null,
   "metadata": {},
   "outputs": [],
   "source": [
    "# Words of the model\n",
    "key_words = list(key_model.key_to_index.keys())"
   ]
  },
  {
   "cell_type": "code",
   "execution_count": null,
   "metadata": {},
   "outputs": [],
   "source": [
    "# Words of our vocab\n",
    "csv_paths = [\"finer_ord_train.csv\", \"finer_ord_validation.csv\", \"finer_ord_test.csv\"]\n",
    "fin_words = set()\n",
    "\n",
    "for csv_path in csv_paths:\n",
    "    df = pd.read_csv(csv_path)\n",
    "    words = df[\"gold_token\"].astype(str).values \n",
    "    for word in words:\n",
    "        fin_words.add(word)"
   ]
  },
  {
   "cell_type": "code",
   "execution_count": null,
   "metadata": {},
   "outputs": [
    {
     "name": "stdout",
     "output_type": "stream",
     "text": [
      "w2v percentage: 88.28588826305374\n"
     ]
    }
   ],
   "source": [
    "common_words = fin_words.intersection(key_words)\n",
    "percentage = (len(common_words) / len(fin_words)) * 100\n",
    "print(f\"key percentage: {percentage}\")"
   ]
  }
 ],
 "metadata": {
  "kernelspec": {
   "display_name": "base",
   "language": "python",
   "name": "python3"
  },
  "language_info": {
   "codemirror_mode": {
    "name": "ipython",
    "version": 3
   },
   "file_extension": ".py",
   "mimetype": "text/x-python",
   "name": "python",
   "nbconvert_exporter": "python",
   "pygments_lexer": "ipython3",
   "version": "3.9.12"
  }
 },
 "nbformat": 4,
 "nbformat_minor": 2
}
